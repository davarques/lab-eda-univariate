{
  "nbformat": 4,
  "nbformat_minor": 0,
  "metadata": {
    "colab": {
      "provenance": [],
      "toc_visible": true
    },
    "kernelspec": {
      "name": "python3",
      "display_name": "Python 3"
    },
    "language_info": {
      "name": "python"
    }
  },
  "cells": [
    {
      "cell_type": "markdown",
      "source": [
        "# Lab - EDA Univariate Analysis: Diving into Amazon UK Product Insights\n",
        "**Objective**: Explore the product listing dynamics on Amazon UK to extract actionable business insights. By understanding the distribution, central tendencies, and relationships of various product attributes, businesses can make more informed decisions on product positioning, pricing strategies, and inventory management.\n",
        "\n",
        "**Dataset**: This lab utilizes the Amazon UK product dataset which provides information on product categories, brands, prices, ratings, and more from from Amazon UK. You'll need to download it to start working with it.\n"
      ],
      "metadata": {
        "id": "48O5_aII3svK"
      }
    },
    {
      "cell_type": "code",
      "source": [
        "# Import Libraries\n",
        "import pandas as pd\n",
        "import os\n",
        "import zipfile\n",
        "import matplotlib.pyplot as plt\n",
        "import seaborn as sns\n",
        "import numpy as np\n",
        "\n",
        "%matplotlib inline\n",
        "pd.set_option('display.max_columns', None)"
      ],
      "metadata": {
        "id": "H6NIYhsM5E4u"
      },
      "execution_count": null,
      "outputs": []
    },
    {
      "cell_type": "code",
      "source": [
        "# Importing csv file from Google Drive:\n",
        "from google.colab import drive\n",
        "\n",
        "# Mount Google Drive\n",
        "drive.mount('/content/drive')\n",
        "\n",
        "# Extracted file ID from the link\n",
        "file_id = \"******************\"  # Replace this with your actual file ID\n",
        "\n",
        "# Specify the directory where the CSV file will be extracted\n",
        "extracted_dir = \"*********************\"\n",
        "\n",
        "# Create the directory if it doesn't exist\n",
        "os.makedirs(extracted_dir, exist_ok=True)\n",
        "\n",
        "# Download the ZIP file\n",
        "!gdown --id $file_id -O \"********************************\"\n",
        "\n",
        "# Unzip the file\n",
        "with zipfile.ZipFile(\"***************************************\", 'r') as zip_ref:\n",
        "    zip_ref.extractall(extracted_dir)\n",
        "\n",
        "# List files in the extracted directory (optional)\n",
        "print(\"Files in the extracted directory:\")\n",
        "print(os.listdir(extracted_dir))\n",
        "\n",
        "# Specify the name of the CSV file\n",
        "csv_file_name = \"amz_uk_price_prediction_dataset.csv\"\n",
        "\n",
        "# Read the CSV file into a DataFrame\n",
        "df = pd.read_csv(os.path.join(extracted_dir, csv_file_name))"
      ],
      "metadata": {
        "colab": {
          "base_uri": "https://localhost:8080/"
        },
        "id": "2_vnRs1-EbBu",
        "outputId": "0f158c31-ae9b-4c07-bc8b-efc26dd06144"
      },
      "execution_count": null,
      "outputs": [
        {
          "output_type": "stream",
          "name": "stdout",
          "text": [
            "Mounted at /content/drive\n",
            "/usr/local/lib/python3.10/dist-packages/gdown/__main__.py:132: FutureWarning: Option `--id` was deprecated in version 4.3.1 and will be removed in 5.0. You don't need to pass it anymore to use a file ID.\n",
            "  warnings.warn(\n",
            "Downloading...\n",
            "From (original): https://drive.google.com/uc?id=1dnWEDDXXIw8ELl0MeKYm7iTfZ2rM5elI\n",
            "From (redirected): https://drive.google.com/uc?id=1dnWEDDXXIw8ELl0MeKYm7iTfZ2rM5elI&confirm=t&uuid=e20d3cfe-4407-4c5d-ab0c-3d39367e91f3\n",
            "To: /content/extracted_data/amz_uk_price_prediction_dataset.csv.zip\n",
            "100% 123M/123M [00:01<00:00, 62.5MB/s]\n",
            "Files in the extracted directory:\n",
            "['amz_uk_price_prediction_dataset.csv', 'amz_uk_price_prediction_dataset.csv.zip']\n"
          ]
        }
      ]
    },
    {
      "cell_type": "code",
      "source": [
        "df.shape"
      ],
      "metadata": {
        "colab": {
          "base_uri": "https://localhost:8080/"
        },
        "id": "rzDaIOVbBZGE",
        "outputId": "152e107f-7144-4444-cbf0-3ab1afb5d8b3"
      },
      "execution_count": null,
      "outputs": [
        {
          "output_type": "execute_result",
          "data": {
            "text/plain": [
              "(2443651, 9)"
            ]
          },
          "metadata": {},
          "execution_count": 3
        }
      ]
    },
    {
      "cell_type": "code",
      "source": [
        "df.sample(3)"
      ],
      "metadata": {
        "colab": {
          "base_uri": "https://localhost:8080/",
          "height": 143
        },
        "id": "h0pAC3HFFDY2",
        "outputId": "d277835a-4215-481a-9edf-a55eb7a0c746"
      },
      "execution_count": null,
      "outputs": [
        {
          "output_type": "execute_result",
          "data": {
            "text/plain": [
              "             uid        asin  \\\n",
              "1699251  1913189  B0CCXQR8HV   \n",
              "887613    965436  B0CD9VDJ7K   \n",
              "91402      99501  B0B27YYNGG   \n",
              "\n",
              "                                                     title  stars  reviews  \\\n",
              "1699251  Keratin Peptide Protein Patch，Natural Sizeup K...    0.0        0   \n",
              "887613   Syrisora Touch High Jump Counter Toy Children ...    0.0        0   \n",
              "91402    Silicone Protective Case Compatible with Wahoo...    0.0        0   \n",
              "\n",
              "         price  isBestSeller  boughtInLastMonth            category  \n",
              "1699251   5.55         False                  0  Sports Supplements  \n",
              "887613    6.09         False                  0   Sports & Outdoors  \n",
              "91402     8.99         False                  0   Sports & Outdoors  "
            ],
            "text/html": [
              "\n",
              "  <div id=\"df-00ad6822-48d9-4af1-ad30-569f854d94ce\" class=\"colab-df-container\">\n",
              "    <div>\n",
              "<style scoped>\n",
              "    .dataframe tbody tr th:only-of-type {\n",
              "        vertical-align: middle;\n",
              "    }\n",
              "\n",
              "    .dataframe tbody tr th {\n",
              "        vertical-align: top;\n",
              "    }\n",
              "\n",
              "    .dataframe thead th {\n",
              "        text-align: right;\n",
              "    }\n",
              "</style>\n",
              "<table border=\"1\" class=\"dataframe\">\n",
              "  <thead>\n",
              "    <tr style=\"text-align: right;\">\n",
              "      <th></th>\n",
              "      <th>uid</th>\n",
              "      <th>asin</th>\n",
              "      <th>title</th>\n",
              "      <th>stars</th>\n",
              "      <th>reviews</th>\n",
              "      <th>price</th>\n",
              "      <th>isBestSeller</th>\n",
              "      <th>boughtInLastMonth</th>\n",
              "      <th>category</th>\n",
              "    </tr>\n",
              "  </thead>\n",
              "  <tbody>\n",
              "    <tr>\n",
              "      <th>1699251</th>\n",
              "      <td>1913189</td>\n",
              "      <td>B0CCXQR8HV</td>\n",
              "      <td>Keratin Peptide Protein Patch，Natural Sizeup K...</td>\n",
              "      <td>0.0</td>\n",
              "      <td>0</td>\n",
              "      <td>5.55</td>\n",
              "      <td>False</td>\n",
              "      <td>0</td>\n",
              "      <td>Sports Supplements</td>\n",
              "    </tr>\n",
              "    <tr>\n",
              "      <th>887613</th>\n",
              "      <td>965436</td>\n",
              "      <td>B0CD9VDJ7K</td>\n",
              "      <td>Syrisora Touch High Jump Counter Toy Children ...</td>\n",
              "      <td>0.0</td>\n",
              "      <td>0</td>\n",
              "      <td>6.09</td>\n",
              "      <td>False</td>\n",
              "      <td>0</td>\n",
              "      <td>Sports &amp; Outdoors</td>\n",
              "    </tr>\n",
              "    <tr>\n",
              "      <th>91402</th>\n",
              "      <td>99501</td>\n",
              "      <td>B0B27YYNGG</td>\n",
              "      <td>Silicone Protective Case Compatible with Wahoo...</td>\n",
              "      <td>0.0</td>\n",
              "      <td>0</td>\n",
              "      <td>8.99</td>\n",
              "      <td>False</td>\n",
              "      <td>0</td>\n",
              "      <td>Sports &amp; Outdoors</td>\n",
              "    </tr>\n",
              "  </tbody>\n",
              "</table>\n",
              "</div>\n",
              "    <div class=\"colab-df-buttons\">\n",
              "\n",
              "  <div class=\"colab-df-container\">\n",
              "    <button class=\"colab-df-convert\" onclick=\"convertToInteractive('df-00ad6822-48d9-4af1-ad30-569f854d94ce')\"\n",
              "            title=\"Convert this dataframe to an interactive table.\"\n",
              "            style=\"display:none;\">\n",
              "\n",
              "  <svg xmlns=\"http://www.w3.org/2000/svg\" height=\"24px\" viewBox=\"0 -960 960 960\">\n",
              "    <path d=\"M120-120v-720h720v720H120Zm60-500h600v-160H180v160Zm220 220h160v-160H400v160Zm0 220h160v-160H400v160ZM180-400h160v-160H180v160Zm440 0h160v-160H620v160ZM180-180h160v-160H180v160Zm440 0h160v-160H620v160Z\"/>\n",
              "  </svg>\n",
              "    </button>\n",
              "\n",
              "  <style>\n",
              "    .colab-df-container {\n",
              "      display:flex;\n",
              "      gap: 12px;\n",
              "    }\n",
              "\n",
              "    .colab-df-convert {\n",
              "      background-color: #E8F0FE;\n",
              "      border: none;\n",
              "      border-radius: 50%;\n",
              "      cursor: pointer;\n",
              "      display: none;\n",
              "      fill: #1967D2;\n",
              "      height: 32px;\n",
              "      padding: 0 0 0 0;\n",
              "      width: 32px;\n",
              "    }\n",
              "\n",
              "    .colab-df-convert:hover {\n",
              "      background-color: #E2EBFA;\n",
              "      box-shadow: 0px 1px 2px rgba(60, 64, 67, 0.3), 0px 1px 3px 1px rgba(60, 64, 67, 0.15);\n",
              "      fill: #174EA6;\n",
              "    }\n",
              "\n",
              "    .colab-df-buttons div {\n",
              "      margin-bottom: 4px;\n",
              "    }\n",
              "\n",
              "    [theme=dark] .colab-df-convert {\n",
              "      background-color: #3B4455;\n",
              "      fill: #D2E3FC;\n",
              "    }\n",
              "\n",
              "    [theme=dark] .colab-df-convert:hover {\n",
              "      background-color: #434B5C;\n",
              "      box-shadow: 0px 1px 3px 1px rgba(0, 0, 0, 0.15);\n",
              "      filter: drop-shadow(0px 1px 2px rgba(0, 0, 0, 0.3));\n",
              "      fill: #FFFFFF;\n",
              "    }\n",
              "  </style>\n",
              "\n",
              "    <script>\n",
              "      const buttonEl =\n",
              "        document.querySelector('#df-00ad6822-48d9-4af1-ad30-569f854d94ce button.colab-df-convert');\n",
              "      buttonEl.style.display =\n",
              "        google.colab.kernel.accessAllowed ? 'block' : 'none';\n",
              "\n",
              "      async function convertToInteractive(key) {\n",
              "        const element = document.querySelector('#df-00ad6822-48d9-4af1-ad30-569f854d94ce');\n",
              "        const dataTable =\n",
              "          await google.colab.kernel.invokeFunction('convertToInteractive',\n",
              "                                                    [key], {});\n",
              "        if (!dataTable) return;\n",
              "\n",
              "        const docLinkHtml = 'Like what you see? Visit the ' +\n",
              "          '<a target=\"_blank\" href=https://colab.research.google.com/notebooks/data_table.ipynb>data table notebook</a>'\n",
              "          + ' to learn more about interactive tables.';\n",
              "        element.innerHTML = '';\n",
              "        dataTable['output_type'] = 'display_data';\n",
              "        await google.colab.output.renderOutput(dataTable, element);\n",
              "        const docLink = document.createElement('div');\n",
              "        docLink.innerHTML = docLinkHtml;\n",
              "        element.appendChild(docLink);\n",
              "      }\n",
              "    </script>\n",
              "  </div>\n",
              "\n",
              "\n",
              "<div id=\"df-39f14c7f-8de4-45f4-baa2-9f39cd425374\">\n",
              "  <button class=\"colab-df-quickchart\" onclick=\"quickchart('df-39f14c7f-8de4-45f4-baa2-9f39cd425374')\"\n",
              "            title=\"Suggest charts\"\n",
              "            style=\"display:none;\">\n",
              "\n",
              "<svg xmlns=\"http://www.w3.org/2000/svg\" height=\"24px\"viewBox=\"0 0 24 24\"\n",
              "     width=\"24px\">\n",
              "    <g>\n",
              "        <path d=\"M19 3H5c-1.1 0-2 .9-2 2v14c0 1.1.9 2 2 2h14c1.1 0 2-.9 2-2V5c0-1.1-.9-2-2-2zM9 17H7v-7h2v7zm4 0h-2V7h2v10zm4 0h-2v-4h2v4z\"/>\n",
              "    </g>\n",
              "</svg>\n",
              "  </button>\n",
              "\n",
              "<style>\n",
              "  .colab-df-quickchart {\n",
              "      --bg-color: #E8F0FE;\n",
              "      --fill-color: #1967D2;\n",
              "      --hover-bg-color: #E2EBFA;\n",
              "      --hover-fill-color: #174EA6;\n",
              "      --disabled-fill-color: #AAA;\n",
              "      --disabled-bg-color: #DDD;\n",
              "  }\n",
              "\n",
              "  [theme=dark] .colab-df-quickchart {\n",
              "      --bg-color: #3B4455;\n",
              "      --fill-color: #D2E3FC;\n",
              "      --hover-bg-color: #434B5C;\n",
              "      --hover-fill-color: #FFFFFF;\n",
              "      --disabled-bg-color: #3B4455;\n",
              "      --disabled-fill-color: #666;\n",
              "  }\n",
              "\n",
              "  .colab-df-quickchart {\n",
              "    background-color: var(--bg-color);\n",
              "    border: none;\n",
              "    border-radius: 50%;\n",
              "    cursor: pointer;\n",
              "    display: none;\n",
              "    fill: var(--fill-color);\n",
              "    height: 32px;\n",
              "    padding: 0;\n",
              "    width: 32px;\n",
              "  }\n",
              "\n",
              "  .colab-df-quickchart:hover {\n",
              "    background-color: var(--hover-bg-color);\n",
              "    box-shadow: 0 1px 2px rgba(60, 64, 67, 0.3), 0 1px 3px 1px rgba(60, 64, 67, 0.15);\n",
              "    fill: var(--button-hover-fill-color);\n",
              "  }\n",
              "\n",
              "  .colab-df-quickchart-complete:disabled,\n",
              "  .colab-df-quickchart-complete:disabled:hover {\n",
              "    background-color: var(--disabled-bg-color);\n",
              "    fill: var(--disabled-fill-color);\n",
              "    box-shadow: none;\n",
              "  }\n",
              "\n",
              "  .colab-df-spinner {\n",
              "    border: 2px solid var(--fill-color);\n",
              "    border-color: transparent;\n",
              "    border-bottom-color: var(--fill-color);\n",
              "    animation:\n",
              "      spin 1s steps(1) infinite;\n",
              "  }\n",
              "\n",
              "  @keyframes spin {\n",
              "    0% {\n",
              "      border-color: transparent;\n",
              "      border-bottom-color: var(--fill-color);\n",
              "      border-left-color: var(--fill-color);\n",
              "    }\n",
              "    20% {\n",
              "      border-color: transparent;\n",
              "      border-left-color: var(--fill-color);\n",
              "      border-top-color: var(--fill-color);\n",
              "    }\n",
              "    30% {\n",
              "      border-color: transparent;\n",
              "      border-left-color: var(--fill-color);\n",
              "      border-top-color: var(--fill-color);\n",
              "      border-right-color: var(--fill-color);\n",
              "    }\n",
              "    40% {\n",
              "      border-color: transparent;\n",
              "      border-right-color: var(--fill-color);\n",
              "      border-top-color: var(--fill-color);\n",
              "    }\n",
              "    60% {\n",
              "      border-color: transparent;\n",
              "      border-right-color: var(--fill-color);\n",
              "    }\n",
              "    80% {\n",
              "      border-color: transparent;\n",
              "      border-right-color: var(--fill-color);\n",
              "      border-bottom-color: var(--fill-color);\n",
              "    }\n",
              "    90% {\n",
              "      border-color: transparent;\n",
              "      border-bottom-color: var(--fill-color);\n",
              "    }\n",
              "  }\n",
              "</style>\n",
              "\n",
              "  <script>\n",
              "    async function quickchart(key) {\n",
              "      const quickchartButtonEl =\n",
              "        document.querySelector('#' + key + ' button');\n",
              "      quickchartButtonEl.disabled = true;  // To prevent multiple clicks.\n",
              "      quickchartButtonEl.classList.add('colab-df-spinner');\n",
              "      try {\n",
              "        const charts = await google.colab.kernel.invokeFunction(\n",
              "            'suggestCharts', [key], {});\n",
              "      } catch (error) {\n",
              "        console.error('Error during call to suggestCharts:', error);\n",
              "      }\n",
              "      quickchartButtonEl.classList.remove('colab-df-spinner');\n",
              "      quickchartButtonEl.classList.add('colab-df-quickchart-complete');\n",
              "    }\n",
              "    (() => {\n",
              "      let quickchartButtonEl =\n",
              "        document.querySelector('#df-39f14c7f-8de4-45f4-baa2-9f39cd425374 button');\n",
              "      quickchartButtonEl.style.display =\n",
              "        google.colab.kernel.accessAllowed ? 'block' : 'none';\n",
              "    })();\n",
              "  </script>\n",
              "</div>\n",
              "    </div>\n",
              "  </div>\n"
            ],
            "application/vnd.google.colaboratory.intrinsic+json": {
              "type": "dataframe",
              "summary": "{\n  \"name\": \"df\",\n  \"rows\": 3,\n  \"fields\": [\n    {\n      \"column\": \"uid\",\n      \"properties\": {\n        \"dtype\": \"number\",\n        \"std\": 907151,\n        \"min\": 99501,\n        \"max\": 1913189,\n        \"num_unique_values\": 3,\n        \"samples\": [\n          1913189,\n          965436,\n          99501\n        ],\n        \"semantic_type\": \"\",\n        \"description\": \"\"\n      }\n    },\n    {\n      \"column\": \"asin\",\n      \"properties\": {\n        \"dtype\": \"string\",\n        \"num_unique_values\": 3,\n        \"samples\": [\n          \"B0CCXQR8HV\",\n          \"B0CD9VDJ7K\",\n          \"B0B27YYNGG\"\n        ],\n        \"semantic_type\": \"\",\n        \"description\": \"\"\n      }\n    },\n    {\n      \"column\": \"title\",\n      \"properties\": {\n        \"dtype\": \"string\",\n        \"num_unique_values\": 3,\n        \"samples\": [\n          \"Keratin Peptide Protein Patch\\uff0cNatural Sizeup Keratopeptide Protein Patch (1 PCS)\",\n          \"Syrisora Touch High Jump Counter Toy Children Growth Promotion Sound Light Voice Broadcast Training Artifacts Blue\",\n          \"Silicone Protective Case Compatible with Wahoo Elemnt Bolt V2 Bike Silicone Protective Cover with Protective Film Replacement GPS Bike Computer Accessories Black\"\n        ],\n        \"semantic_type\": \"\",\n        \"description\": \"\"\n      }\n    },\n    {\n      \"column\": \"stars\",\n      \"properties\": {\n        \"dtype\": \"number\",\n        \"std\": 0.0,\n        \"min\": 0.0,\n        \"max\": 0.0,\n        \"num_unique_values\": 1,\n        \"samples\": [\n          0.0\n        ],\n        \"semantic_type\": \"\",\n        \"description\": \"\"\n      }\n    },\n    {\n      \"column\": \"reviews\",\n      \"properties\": {\n        \"dtype\": \"number\",\n        \"std\": 0,\n        \"min\": 0,\n        \"max\": 0,\n        \"num_unique_values\": 1,\n        \"samples\": [\n          0\n        ],\n        \"semantic_type\": \"\",\n        \"description\": \"\"\n      }\n    },\n    {\n      \"column\": \"price\",\n      \"properties\": {\n        \"dtype\": \"number\",\n        \"std\": 1.8500090089870735,\n        \"min\": 5.55,\n        \"max\": 8.99,\n        \"num_unique_values\": 3,\n        \"samples\": [\n          5.55\n        ],\n        \"semantic_type\": \"\",\n        \"description\": \"\"\n      }\n    },\n    {\n      \"column\": \"isBestSeller\",\n      \"properties\": {\n        \"dtype\": \"boolean\",\n        \"num_unique_values\": 1,\n        \"samples\": [\n          false\n        ],\n        \"semantic_type\": \"\",\n        \"description\": \"\"\n      }\n    },\n    {\n      \"column\": \"boughtInLastMonth\",\n      \"properties\": {\n        \"dtype\": \"number\",\n        \"std\": 0,\n        \"min\": 0,\n        \"max\": 0,\n        \"num_unique_values\": 1,\n        \"samples\": [\n          0\n        ],\n        \"semantic_type\": \"\",\n        \"description\": \"\"\n      }\n    },\n    {\n      \"column\": \"category\",\n      \"properties\": {\n        \"dtype\": \"string\",\n        \"num_unique_values\": 2,\n        \"samples\": [\n          \"Sports & Outdoors\"\n        ],\n        \"semantic_type\": \"\",\n        \"description\": \"\"\n      }\n    }\n  ]\n}"
            }
          },
          "metadata": {},
          "execution_count": 4
        }
      ]
    },
    {
      "cell_type": "markdown",
      "source": [
        "# Part 1: Understanding Product Categories\n",
        "\n",
        "**Business Question**: What are the most popular product categories on Amazon UK, and how do they compare in terms of listing frequency?"
      ],
      "metadata": {
        "id": "iQ75Z6dW4Qce"
      }
    },
    {
      "cell_type": "markdown",
      "source": [
        "## 1.1) Frequency Tables\n",
        "* Generate a frequency table for the product category\n",
        "* Which are the top 5 most listed product categories?"
      ],
      "metadata": {
        "id": "O1gvR6eH4gat"
      }
    },
    {
      "cell_type": "code",
      "execution_count": null,
      "metadata": {
        "colab": {
          "base_uri": "https://localhost:8080/"
        },
        "id": "OmR1chmQ3esH",
        "outputId": "7a93e878-ce6d-4a72-8a96-b267ece53eb3"
      },
      "outputs": [
        {
          "output_type": "execute_result",
          "data": {
            "text/plain": [
              "category\n",
              "Sports & Outdoors                         836265\n",
              "Beauty                                     19312\n",
              "Handmade Clothing, Shoes & Accessories     19229\n",
              "Bath & Body                                19092\n",
              "Birthday Gifts                             18978\n",
              "                                           ...  \n",
              "Alexa Built-In Devices                       107\n",
              "Motorbike Chassis                            107\n",
              "Plugs                                        107\n",
              "Smart Home Security & Lighting               104\n",
              "Smart Speakers                                54\n",
              "Name: count, Length: 296, dtype: int64"
            ]
          },
          "metadata": {},
          "execution_count": 5
        }
      ],
      "source": [
        "# Create Frequency Table for [Product Category]:\n",
        "product_category_freq_table = df['category'].value_counts()\n",
        "product_category_freq_table"
      ]
    },
    {
      "cell_type": "code",
      "source": [
        "# Get Top 5 most listed products:\n",
        "top_5_products = product_category_freq_table.head(5)\n",
        "top_5_products"
      ],
      "metadata": {
        "colab": {
          "base_uri": "https://localhost:8080/"
        },
        "id": "5civSGho6p6i",
        "outputId": "87727455-e15d-447b-fda2-0d479f6b7654"
      },
      "execution_count": null,
      "outputs": [
        {
          "output_type": "execute_result",
          "data": {
            "text/plain": [
              "category\n",
              "Sports & Outdoors                         836265\n",
              "Beauty                                     19312\n",
              "Handmade Clothing, Shoes & Accessories     19229\n",
              "Bath & Body                                19092\n",
              "Birthday Gifts                             18978\n",
              "Name: count, dtype: int64"
            ]
          },
          "metadata": {},
          "execution_count": 6
        }
      ]
    },
    {
      "cell_type": "markdown",
      "source": [
        "## 1.2) Visualizations\n",
        "\n",
        "* Display the distribution of products across different categories using a bar chart. If you face problems understanding the chart, do it for a subset of top categories.\n",
        "* For a subset of top categories, visualize their proportions using a pie chart. Does any category dominate the listings?"
      ],
      "metadata": {
        "id": "7Cva0PwR6efJ"
      }
    },
    {
      "cell_type": "code",
      "source": [
        "# Barchart to display product category distribution:\n",
        "sns.barplot(x=product_category_freq_table, y=product_category_freq_table.values, palette='Set2')\n",
        "# Not good visually, so doing for a subset of porducts"
      ],
      "metadata": {
        "colab": {
          "base_uri": "https://localhost:8080/",
          "height": 553
        },
        "id": "1i4ncXzD6pKM",
        "outputId": "071538c8-de94-4222-9e53-f271bc6f17e6"
      },
      "execution_count": null,
      "outputs": [
        {
          "output_type": "stream",
          "name": "stderr",
          "text": [
            "<ipython-input-7-c96d425f3c73>:2: FutureWarning: \n",
            "\n",
            "Passing `palette` without assigning `hue` is deprecated and will be removed in v0.14.0. Assign the `x` variable to `hue` and set `legend=False` for the same effect.\n",
            "\n",
            "  sns.barplot(x=product_category_freq_table, y=product_category_freq_table.values, palette='Set2')\n"
          ]
        },
        {
          "output_type": "execute_result",
          "data": {
            "text/plain": [
              "<Axes: xlabel='count'>"
            ]
          },
          "metadata": {},
          "execution_count": 7
        },
        {
          "output_type": "display_data",
          "data": {
            "text/plain": [
              "<Figure size 640x480 with 1 Axes>"
            ],
            "image/png": "[encoded data removed]"
          },
          "metadata": {}
        }
      ]
    },
    {
      "cell_type": "code",
      "source": [
        "product_categories = top_5_products.index"
      ],
      "metadata": {
        "id": "xbO0odUOJdTC"
      },
      "execution_count": null,
      "outputs": []
    },
    {
      "cell_type": "code",
      "source": [
        "# Barchart to display Top 5 product category distribution:\n",
        "plt.figure(figsize=(10, 6))\n",
        "sns.barplot(x=product_categories, y=top_5_products.values, palette='Set2')"
      ],
      "metadata": {
        "colab": {
          "base_uri": "https://localhost:8080/",
          "height": 646
        },
        "id": "6EnQ0judItUD",
        "outputId": "c2abc5ba-f6d0-4a78-b875-8df3786c78ec"
      },
      "execution_count": null,
      "outputs": [
        {
          "output_type": "stream",
          "name": "stderr",
          "text": [
            "<ipython-input-9-7c29983ccf13>:3: FutureWarning: \n",
            "\n",
            "Passing `palette` without assigning `hue` is deprecated and will be removed in v0.14.0. Assign the `x` variable to `hue` and set `legend=False` for the same effect.\n",
            "\n",
            "  sns.barplot(x=product_categories, y=top_5_products.values, palette='Set2')\n"
          ]
        },
        {
          "output_type": "execute_result",
          "data": {
            "text/plain": [
              "<Axes: xlabel='category'>"
            ]
          },
          "metadata": {},
          "execution_count": 9
        },
        {
          "output_type": "display_data",
          "data": {
            "text/plain": [
              "<Figure size 1000x600 with 1 Axes>"
            ],
            "image/png": "[encoded data removed]"
          },
          "metadata": {}
        }
      ]
    },
    {
      "cell_type": "code",
      "source": [
        "# Pie chart with Top 5 Products\n",
        "plt.figure(figsize=(6, 6))\n",
        "plt.pie(top_5_products, labels=top_5_products.index, autopct='%1.2f%%', startangle=90, colors=sns.color_palette('Set2'))"
      ],
      "metadata": {
        "colab": {
          "base_uri": "https://localhost:8080/",
          "height": 759
        },
        "id": "fhFTM0pWLPhz",
        "outputId": "4297d019-1539-48e8-e131-2fa327224940"
      },
      "execution_count": null,
      "outputs": [
        {
          "output_type": "execute_result",
          "data": {
            "text/plain": [
              "([<matplotlib.patches.Wedge at 0x79421b28df90>,\n",
              "  <matplotlib.patches.Wedge at 0x79421b3a9930>,\n",
              "  <matplotlib.patches.Wedge at 0x79421b391f90>,\n",
              "  <matplotlib.patches.Wedge at 0x79421b0f4250>,\n",
              "  <matplotlib.patches.Wedge at 0x79421b0f5600>],\n",
              " [Text(-0.28666771368868316, -1.0619894641325325, 'Sports & Outdoors'),\n",
              "  Text(0.4891716928879617, 0.985246697470804, 'Beauty'),\n",
              "  Text(0.35457891731888064, 1.0412846831644893, 'Handmade Clothing, Shoes & Accessories'),\n",
              "  Text(0.21457431617737968, 1.0788687885174035, 'Bath & Body'),\n",
              "  Text(0.0717914226731242, 1.0976547688734235, 'Birthday Gifts')],\n",
              " [Text(-0.1563642074665544, -0.5792669804359267, '91.61%'),\n",
              "  Text(0.2668209233934336, 0.5374072895295293, '2.12%'),\n",
              "  Text(0.19340668217393486, 0.5679734635442668, '2.11%'),\n",
              "  Text(0.11704053609675254, 0.5884738846458565, '2.09%'),\n",
              "  Text(0.0391589578217041, 0.5987207830218674, '2.08%')])"
            ]
          },
          "metadata": {},
          "execution_count": 10
        },
        {
          "output_type": "display_data",
          "data": {
            "text/plain": [
              "<Figure size 600x600 with 1 Axes>"
            ],
            "image/png": "[encoded data removed]"
          },
          "metadata": {}
        }
      ]
    },
    {
      "cell_type": "markdown",
      "source": [
        "###  Conclusions Part 1:\n",
        "\n",
        "In this case (Amazon UK products) using charts is most effective when focusing on a subset of few categories, like the top 5 products. The pie chart clearly shows that 'Sports & Outdoors' is the dominant product category."
      ],
      "metadata": {
        "id": "RLNiw6SQLhiy"
      }
    },
    {
      "cell_type": "markdown",
      "source": [
        "# Part 2: Delving into Product Pricing\n",
        "\n",
        "**Business Question**: How are products priced on Amazon UK, and are there specific price points or ranges that are more common?"
      ],
      "metadata": {
        "id": "_I2s8hEa6q9X"
      }
    },
    {
      "cell_type": "markdown",
      "source": [
        "## 2.1) Measures of Centrality\n",
        "\n",
        "* Calculate the mean, median, and mode for the price of products.\n",
        "* What's the average price point of products listed? How does this compare with the most common price point (mode)?"
      ],
      "metadata": {
        "id": "yFuiX7cI600c"
      }
    },
    {
      "cell_type": "code",
      "source": [
        "# Get price mean:\n",
        "price_mean = df['price'].mean().round(2)\n",
        "price_mean"
      ],
      "metadata": {
        "colab": {
          "base_uri": "https://localhost:8080/"
        },
        "id": "iaAfN84qlEsG",
        "outputId": "20950e38-a3bf-4d61-9535-0a92310237b1"
      },
      "execution_count": null,
      "outputs": [
        {
          "output_type": "execute_result",
          "data": {
            "text/plain": [
              "89.24"
            ]
          },
          "metadata": {},
          "execution_count": 11
        }
      ]
    },
    {
      "cell_type": "code",
      "source": [
        "# Get price median:\n",
        "df['price'].median().round(2)"
      ],
      "metadata": {
        "colab": {
          "base_uri": "https://localhost:8080/"
        },
        "id": "21Gr6879mQVo",
        "outputId": "d00f5ebc-b483-48c8-eb34-6220cc6746f7"
      },
      "execution_count": null,
      "outputs": [
        {
          "output_type": "execute_result",
          "data": {
            "text/plain": [
              "19.09"
            ]
          },
          "metadata": {},
          "execution_count": 12
        }
      ]
    },
    {
      "cell_type": "code",
      "source": [
        "# Get price mode:\n",
        "price_mode = df['price'].mode()\n",
        "price_mode"
      ],
      "metadata": {
        "colab": {
          "base_uri": "https://localhost:8080/"
        },
        "id": "9KGBL1RZmZfN",
        "outputId": "4d536c73-90f3-4c0e-b421-ed402e279744"
      },
      "execution_count": null,
      "outputs": [
        {
          "output_type": "execute_result",
          "data": {
            "text/plain": [
              "0    9.99\n",
              "Name: price, dtype: float64"
            ]
          },
          "metadata": {},
          "execution_count": 13
        }
      ]
    },
    {
      "cell_type": "code",
      "source": [
        "# Difference mean(average price) versus price mode:\n",
        "diff_price = price_mean - price_mode\n",
        "diff_price"
      ],
      "metadata": {
        "colab": {
          "base_uri": "https://localhost:8080/"
        },
        "id": "-LioUMQWm8Qx",
        "outputId": "e4d2e8b6-db9c-4503-a11e-8644254f27d8"
      },
      "execution_count": null,
      "outputs": [
        {
          "output_type": "execute_result",
          "data": {
            "text/plain": [
              "0    79.25\n",
              "Name: price, dtype: float64"
            ]
          },
          "metadata": {},
          "execution_count": 14
        }
      ]
    },
    {
      "cell_type": "markdown",
      "source": [
        "**Conclusion 2.1**: The average price and the most common price are very different, almost 89% apart. This means most prices are lower than the average, but a few higher prices are pulling the average up."
      ],
      "metadata": {
        "id": "NdHMVWRYnXzd"
      }
    },
    {
      "cell_type": "markdown",
      "source": [
        "## 2.2) Measures of Dispersion\n",
        "\n",
        "* Determine the variance, standard deviation, range, and interquartile range for product 'price'.\n",
        "* How varied are the product prices? Are there any indicators of a significant spread in prices?"
      ],
      "metadata": {
        "id": "L_qB9R8EoLF-"
      }
    },
    {
      "cell_type": "code",
      "source": [
        "# Do 'describe' to see percentiles\n",
        "describe_data = df['price'].describe().round(2)\n",
        "describe_data"
      ],
      "metadata": {
        "colab": {
          "base_uri": "https://localhost:8080/"
        },
        "id": "oep1-LHxoHEX",
        "outputId": "b71f2995-e8d3-438d-ac80-3e52631ca539"
      },
      "execution_count": null,
      "outputs": [
        {
          "output_type": "execute_result",
          "data": {
            "text/plain": [
              "count    2443651.00\n",
              "mean          89.24\n",
              "std          345.61\n",
              "min            0.00\n",
              "25%            9.99\n",
              "50%           19.09\n",
              "75%           45.99\n",
              "max       100000.00\n",
              "Name: price, dtype: float64"
            ]
          },
          "metadata": {},
          "execution_count": 15
        }
      ]
    },
    {
      "cell_type": "code",
      "source": [
        "# Price 'std dev'\n",
        "std_dev = describe_data['std']\n",
        "std_dev"
      ],
      "metadata": {
        "colab": {
          "base_uri": "https://localhost:8080/"
        },
        "id": "icDubyJuqaav",
        "outputId": "e0e2de69-a4f3-4b23-f2b1-6f1c2609343b"
      },
      "execution_count": null,
      "outputs": [
        {
          "output_type": "execute_result",
          "data": {
            "text/plain": [
              "345.61"
            ]
          },
          "metadata": {},
          "execution_count": 16
        }
      ]
    },
    {
      "cell_type": "markdown",
      "source": [
        "## 2.3) Visualizations\n",
        "\n",
        "* Is there a specific price range where most products fall? Plot a histogram to visualize the distribution of product prices. If its hard to read these diagrams, think why this is, and explain how it could be solved.\n",
        "\n",
        "* Are there products that are priced significantly higher than the rest? Use a box plot to showcase the spread and potential outliers in product pricing."
      ],
      "metadata": {
        "id": "H6d_FTVSqkbK"
      }
    },
    {
      "cell_type": "code",
      "source": [
        "# Create Price Freq Table:\n",
        "price_freq_table = df['price'].value_counts().sort_index(ascending=False)\n",
        "price_freq_table"
      ],
      "metadata": {
        "colab": {
          "base_uri": "https://localhost:8080/"
        },
        "id": "nHlJLwcjrXjM",
        "outputId": "f2a15ca3-3268-43bf-a44c-d3df0b08e0c1"
      },
      "execution_count": null,
      "outputs": [
        {
          "output_type": "execute_result",
          "data": {
            "text/plain": [
              "price\n",
              "100000.00      1\n",
              "77752.00       1\n",
              "24674.59       1\n",
              "23482.73       1\n",
              "22933.42       1\n",
              "            ... \n",
              "0.04          13\n",
              "0.03           2\n",
              "0.02           7\n",
              "0.01         694\n",
              "0.00          20\n",
              "Name: count, Length: 82916, dtype: int64"
            ]
          },
          "metadata": {},
          "execution_count": 17
        }
      ]
    },
    {
      "cell_type": "code",
      "source": [
        "# Find Top 20 prices range (form high to low)\n",
        "price_top_20 = price_freq_table.head(20)\n",
        "price_top_20"
      ],
      "metadata": {
        "colab": {
          "base_uri": "https://localhost:8080/"
        },
        "id": "mKumXStwnJsO",
        "outputId": "6cc58ba8-c628-4506-a27b-1839ab5a6b82"
      },
      "execution_count": null,
      "outputs": [
        {
          "output_type": "execute_result",
          "data": {
            "text/plain": [
              "price\n",
              "100000.00    1\n",
              "77752.00     1\n",
              "24674.59     1\n",
              "23482.73     1\n",
              "22933.42     1\n",
              "21999.00     2\n",
              "21464.82     3\n",
              "20489.75     1\n",
              "20216.00     1\n",
              "20015.45     1\n",
              "19999.00     4\n",
              "19990.00     1\n",
              "19290.93     1\n",
              "19211.51     1\n",
              "18244.80     1\n",
              "18169.83     1\n",
              "18144.00     1\n",
              "17837.54     1\n",
              "17611.51     1\n",
              "17139.30     1\n",
              "Name: count, dtype: int64"
            ]
          },
          "metadata": {},
          "execution_count": 18
        }
      ]
    },
    {
      "cell_type": "code",
      "source": [
        "# Boxplot with prices to see distribution:\n",
        "sns.boxplot(data=df['price'], color='orange')"
      ],
      "metadata": {
        "colab": {
          "base_uri": "https://localhost:8080/",
          "height": 428
        },
        "id": "GOUgxnojpXXY",
        "outputId": "6ffacedb-cede-46fb-8528-44407a8cd8dc"
      },
      "execution_count": null,
      "outputs": [
        {
          "output_type": "execute_result",
          "data": {
            "text/plain": [
              "<Axes: ylabel='price'>"
            ]
          },
          "metadata": {},
          "execution_count": 19
        },
        {
          "output_type": "display_data",
          "data": {
            "text/plain": [
              "<Figure size 640x480 with 1 Axes>"
            ],
            "image/png": "[encoded data removed]"
          },
          "metadata": {}
        }
      ]
    },
    {
      "cell_type": "code",
      "source": [
        "# Distribution plot has better visualization:\n",
        "plt.figure(figsize=(12, 8))\n",
        "sns.distplot(df['price'], kde=True, hist=True, color='orange')"
      ],
      "metadata": {
        "colab": {
          "base_uri": "https://localhost:8080/",
          "height": 904
        },
        "id": "COosMy56ooSQ",
        "outputId": "7a8c416a-e272-4fef-9c01-cab0ae16c9d9"
      },
      "execution_count": null,
      "outputs": [
        {
          "output_type": "stream",
          "name": "stderr",
          "text": [
            "<ipython-input-20-b0fa7bf4e0b7>:3: UserWarning: \n",
            "\n",
            "`distplot` is a deprecated function and will be removed in seaborn v0.14.0.\n",
            "\n",
            "Please adapt your code to use either `displot` (a figure-level function with\n",
            "similar flexibility) or `histplot` (an axes-level function for histograms).\n",
            "\n",
            "For a guide to updating your code to use the new functions, please see\n",
            "https://gist.github.com/mwaskom/de44147ed2974457ad6372750bbe5751\n",
            "\n",
            "  sns.distplot(df['price'], kde=True, hist=True, color='orange')\n"
          ]
        },
        {
          "output_type": "execute_result",
          "data": {
            "text/plain": [
              "<Axes: xlabel='price', ylabel='Density'>"
            ]
          },
          "metadata": {},
          "execution_count": 20
        },
        {
          "output_type": "display_data",
          "data": {
            "text/plain": [
              "<Figure size 1200x800 with 1 Axes>"
            ],
            "image/png": "[encoded data removed]"
          },
          "metadata": {}
        }
      ]
    },
    {
      "cell_type": "markdown",
      "source": [
        "### Conclusion Part 2:\n",
        "\n",
        "There is a lot of outliers (single product units) with very high prices (over 20k price until 100k). Last chart provides a better image of price distribution."
      ],
      "metadata": {
        "id": "-26BuZnOsxyl"
      }
    },
    {
      "cell_type": "markdown",
      "source": [
        "# Part 3: Unpacking Product Ratings\n",
        "\n",
        "**Business Question**: How do customers rate products on Amazon UK, and are there any patterns or tendencies in the ratings?"
      ],
      "metadata": {
        "id": "zenV0DRorPIy"
      }
    },
    {
      "cell_type": "markdown",
      "source": [
        "## 3.1) Measures of Centrality:\n",
        "\n",
        "* Calculate the mean, median, and mode for the rating of products.\n",
        "* How do customers generally rate products? Is there a common trend?\n"
      ],
      "metadata": {
        "id": "QYmU-gBlrXKw"
      }
    },
    {
      "cell_type": "code",
      "source": [
        "df.info()"
      ],
      "metadata": {
        "colab": {
          "base_uri": "https://localhost:8080/"
        },
        "id": "432KraLmseSK",
        "outputId": "497e15e8-a585-4baf-e4e3-0cc1826cf182"
      },
      "execution_count": null,
      "outputs": [
        {
          "output_type": "stream",
          "name": "stdout",
          "text": [
            "<class 'pandas.core.frame.DataFrame'>\n",
            "RangeIndex: 2443651 entries, 0 to 2443650\n",
            "Data columns (total 9 columns):\n",
            " #   Column             Dtype  \n",
            "---  ------             -----  \n",
            " 0   uid                int64  \n",
            " 1   asin               object \n",
            " 2   title              object \n",
            " 3   stars              float64\n",
            " 4   reviews            int64  \n",
            " 5   price              float64\n",
            " 6   isBestSeller       bool   \n",
            " 7   boughtInLastMonth  int64  \n",
            " 8   category           object \n",
            "dtypes: bool(1), float64(2), int64(3), object(3)\n",
            "memory usage: 151.5+ MB\n"
          ]
        }
      ]
    },
    {
      "cell_type": "code",
      "source": [
        "df.nunique()"
      ],
      "metadata": {
        "colab": {
          "base_uri": "https://localhost:8080/"
        },
        "id": "imi6cVKUtWpr",
        "outputId": "f1cebe41-be1c-4480-c719-1eba0164652b"
      },
      "execution_count": null,
      "outputs": [
        {
          "output_type": "execute_result",
          "data": {
            "text/plain": [
              "uid                  2443651\n",
              "asin                 2222742\n",
              "title                2077591\n",
              "stars                     42\n",
              "reviews                19446\n",
              "price                  82916\n",
              "isBestSeller               2\n",
              "boughtInLastMonth         25\n",
              "category                 296\n",
              "dtype: int64"
            ]
          },
          "metadata": {},
          "execution_count": 22
        }
      ]
    },
    {
      "cell_type": "code",
      "source": [
        "df['stars'].isnull().sum()"
      ],
      "metadata": {
        "colab": {
          "base_uri": "https://localhost:8080/"
        },
        "id": "E5ZIS4p4szfq",
        "outputId": "f56f20bb-becf-4fa7-89bb-5357857f7d9c"
      },
      "execution_count": null,
      "outputs": [
        {
          "output_type": "execute_result",
          "data": {
            "text/plain": [
              "0"
            ]
          },
          "metadata": {},
          "execution_count": 23
        }
      ]
    },
    {
      "cell_type": "code",
      "source": [
        "df['stars'].describe()"
      ],
      "metadata": {
        "colab": {
          "base_uri": "https://localhost:8080/"
        },
        "id": "3kd3yMRYsRO7",
        "outputId": "ef771ec0-3160-48c9-f2e7-f7d86b1f8483"
      },
      "execution_count": null,
      "outputs": [
        {
          "output_type": "execute_result",
          "data": {
            "text/plain": [
              "count    2.443651e+06\n",
              "mean     2.152836e+00\n",
              "std      2.194865e+00\n",
              "min      0.000000e+00\n",
              "25%      0.000000e+00\n",
              "50%      0.000000e+00\n",
              "75%      4.400000e+00\n",
              "max      5.000000e+00\n",
              "Name: stars, dtype: float64"
            ]
          },
          "metadata": {},
          "execution_count": 24
        }
      ]
    },
    {
      "cell_type": "code",
      "source": [
        "# stars mean\n",
        "df['stars'].mean().round(2)"
      ],
      "metadata": {
        "colab": {
          "base_uri": "https://localhost:8080/"
        },
        "id": "5jxMEClLrqO5",
        "outputId": "43309114-252f-4f8e-dc44-f867025cf819"
      },
      "execution_count": null,
      "outputs": [
        {
          "output_type": "execute_result",
          "data": {
            "text/plain": [
              "2.15"
            ]
          },
          "metadata": {},
          "execution_count": 25
        }
      ]
    },
    {
      "cell_type": "code",
      "source": [
        "# stars median\n",
        "df['stars'].median().round(2)"
      ],
      "metadata": {
        "colab": {
          "base_uri": "https://localhost:8080/"
        },
        "id": "B5xJU0rVr8UO",
        "outputId": "db49b916-ad92-461f-853c-dabdba1b710e"
      },
      "execution_count": null,
      "outputs": [
        {
          "output_type": "execute_result",
          "data": {
            "text/plain": [
              "0.0"
            ]
          },
          "metadata": {},
          "execution_count": 26
        }
      ]
    },
    {
      "cell_type": "code",
      "source": [
        "# stars Mode\n",
        "df['stars'].mode()"
      ],
      "metadata": {
        "colab": {
          "base_uri": "https://localhost:8080/"
        },
        "id": "CNHzJhRfsH3p",
        "outputId": "c0034874-d2bd-4dd2-a129-c16d39327eef"
      },
      "execution_count": null,
      "outputs": [
        {
          "output_type": "execute_result",
          "data": {
            "text/plain": [
              "0    0.0\n",
              "Name: stars, dtype: float64"
            ]
          },
          "metadata": {},
          "execution_count": 27
        }
      ]
    },
    {
      "cell_type": "code",
      "source": [
        "# Trying box plot for 'stars'\n",
        "sns.boxplot(x='stars', data=df, color='orange')"
      ],
      "metadata": {
        "colab": {
          "base_uri": "https://localhost:8080/",
          "height": 466
        },
        "id": "hmj7eSLeth7i",
        "outputId": "2efd648a-409a-4806-947b-285706b08d19"
      },
      "execution_count": null,
      "outputs": [
        {
          "output_type": "execute_result",
          "data": {
            "text/plain": [
              "<Axes: xlabel='stars'>"
            ]
          },
          "metadata": {},
          "execution_count": 28
        },
        {
          "output_type": "display_data",
          "data": {
            "text/plain": [
              "<Figure size 640x480 with 1 Axes>"
            ],
            "image/png": "[encoded data removed]"
          },
          "metadata": {}
        }
      ]
    },
    {
      "cell_type": "markdown",
      "source": [
        "## 3.2) Measures of Dispersion\n",
        "\n",
        "* Determine the variance, standard deviation, and interquartile range for product rating.\n",
        "* Are the ratings consistent, or is there a wide variation in customer feedback?"
      ],
      "metadata": {
        "id": "6DZ43Mzwb0Pe"
      }
    },
    {
      "cell_type": "code",
      "source": [
        "# Variance product ratings ('stars'):\n",
        "variance_rating = df['stars'].var().round(2)\n",
        "variance_rating"
      ],
      "metadata": {
        "colab": {
          "base_uri": "https://localhost:8080/"
        },
        "id": "T5fag6YYcXuv",
        "outputId": "321f4987-e9b8-4411-a9a2-d9ab5fcec5b2"
      },
      "execution_count": null,
      "outputs": [
        {
          "output_type": "execute_result",
          "data": {
            "text/plain": [
              "4.82"
            ]
          },
          "metadata": {},
          "execution_count": 31
        }
      ]
    },
    {
      "cell_type": "code",
      "source": [
        "# Standard deviation product ratings:\n",
        "std_rating = df['stars'].std().round(2)\n",
        "std_rating"
      ],
      "metadata": {
        "colab": {
          "base_uri": "https://localhost:8080/"
        },
        "id": "u_ddnqxWdEwX",
        "outputId": "360c0bd3-ce9c-47ae-9eee-54bc5e886067"
      },
      "execution_count": null,
      "outputs": [
        {
          "output_type": "execute_result",
          "data": {
            "text/plain": [
              "2.19"
            ]
          },
          "metadata": {},
          "execution_count": 32
        }
      ]
    },
    {
      "cell_type": "code",
      "source": [
        "# Interquartile Range (=Third quartil - First quartil):\n",
        "q1_rating = df['stars'].quantile(0.25)\n",
        "q3_rating = df['stars'].quantile(0.75)\n",
        "\n",
        "int_qtl_rating = q3_rating - q1_rating\n",
        "int_qtl_rating"
      ],
      "metadata": {
        "colab": {
          "base_uri": "https://localhost:8080/"
        },
        "id": "heWzB3jGdaQX",
        "outputId": "38795cd7-e966-4185-f78a-31a24ce0506f"
      },
      "execution_count": null,
      "outputs": [
        {
          "output_type": "execute_result",
          "data": {
            "text/plain": [
              "4.4"
            ]
          },
          "metadata": {},
          "execution_count": 35
        }
      ]
    },
    {
      "cell_type": "markdown",
      "source": [
        "### Conclusions 3.2\n",
        "\n",
        "* **Variance** (4.82): Quite high variance from the mean (2.15), so diverse opinions among customers in terms of product ratings (stars).\n",
        "* **Standard Deviation** (2.19): Similar to variance it shows significant spread in customer ratings (stars).\n",
        "* **Interquartile Range** (4.4): The middle 50% of ratings have a spread of 4.4, indicating moderate variability in customer rating (stars) within this range.\n"
      ],
      "metadata": {
        "id": "kfS_iT-Qe2f3"
      }
    },
    {
      "cell_type": "markdown",
      "source": [
        "## 3.3) Shape of the Distribution\n",
        "\n",
        "* Calculate the skewness and kurtosis for the rating column.\n",
        "* Are the ratings normally distributed, or do they lean towards higher or lower values?\n"
      ],
      "metadata": {
        "id": "0UHqpXJxgao5"
      }
    },
    {
      "cell_type": "code",
      "source": [
        "# Skewness of product rating (stars)\n",
        "skew_rating = df.stars.skew().round(2)\n",
        "skew_rating"
      ],
      "metadata": {
        "colab": {
          "base_uri": "https://localhost:8080/"
        },
        "id": "eBsnfL1kg0xD",
        "outputId": "4ab48776-80ab-4f38-e826-bacd0ec16c2e"
      },
      "execution_count": null,
      "outputs": [
        {
          "output_type": "execute_result",
          "data": {
            "text/plain": [
              "0.08"
            ]
          },
          "metadata": {},
          "execution_count": 37
        }
      ]
    },
    {
      "cell_type": "code",
      "source": [
        "# Kurtosis of product rating (stars)\n",
        "kurt_rating = df.stars.kurtosis().round(2)\n",
        "kurt_rating"
      ],
      "metadata": {
        "colab": {
          "base_uri": "https://localhost:8080/"
        },
        "id": "ETY8GSjnhHP4",
        "outputId": "ddc83393-bed5-4923-940b-205d08f652fe"
      },
      "execution_count": null,
      "outputs": [
        {
          "output_type": "execute_result",
          "data": {
            "text/plain": [
              "-1.93"
            ]
          },
          "metadata": {},
          "execution_count": 38
        }
      ]
    },
    {
      "cell_type": "markdown",
      "source": [
        "### Conclusions 3.3\n",
        "* **Skewness** (0.08): Is close to 0, menaing almost symetric distribution and positive so skewness slightly to the right.\n",
        "* **Kurtosis** (-1.93): With a kurtosis of -1.93, the distribution is 'platykurtic', meaning that it has thinner tails and a flatter peak than a normal distribution."
      ],
      "metadata": {
        "id": "ufmvCgGRhTnk"
      }
    },
    {
      "cell_type": "markdown",
      "source": [
        "## 3.4) Visualizations\n",
        "\n",
        "* Plot a histogram to visualize the distribution of product ratings. Is there a specific rating that is more common?"
      ],
      "metadata": {
        "id": "VOTP8WJJij-U"
      }
    },
    {
      "cell_type": "code",
      "source": [
        "# Trying 'histplot' to visualize data:\n",
        "histplot_ratings = sns.histplot(df['stars'], bins=30)\n",
        "histplot_ratings"
      ],
      "metadata": {
        "colab": {
          "base_uri": "https://localhost:8080/",
          "height": 482
        },
        "id": "LgnhmGQ1isdJ",
        "outputId": "0543012e-d496-4cf2-f6c0-262ea27945ce"
      },
      "execution_count": null,
      "outputs": [
        {
          "output_type": "execute_result",
          "data": {
            "text/plain": [
              "<Axes: xlabel='stars', ylabel='Count'>"
            ]
          },
          "metadata": {},
          "execution_count": 40
        },
        {
          "output_type": "display_data",
          "data": {
            "text/plain": [
              "<Figure size 640x480 with 1 Axes>"
            ],
            "image/png": "[encoded data removed]"
          },
          "metadata": {}
        }
      ]
    },
    {
      "cell_type": "markdown",
      "source": [
        "### Conclusions 3.4\n",
        "\n",
        "* The Histrogram is very helpful to see the rating distribiution\n",
        "* Most of the people rate with 0 (which i undrestand a sno rating) or if not between 4-5 if rated."
      ],
      "metadata": {
        "id": "igGRoSbCj20K"
      }
    }
  ]
}